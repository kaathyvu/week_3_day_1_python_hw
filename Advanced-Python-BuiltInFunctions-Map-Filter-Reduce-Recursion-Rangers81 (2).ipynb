{
 "cells": [
  {
   "cell_type": "markdown",
   "metadata": {},
   "source": [
    "# Map, Filter, Reduce, Lambda & Recursion"
   ]
  },
  {
   "cell_type": "markdown",
   "metadata": {},
   "source": [
    "## Tasks Today:\n",
    "\n",
    "1) <b>Lambda Functions</b> <br>\n",
    " &nbsp;&nbsp;&nbsp;&nbsp; a) Syntax <br>\n",
    " &nbsp;&nbsp;&nbsp;&nbsp; b) Saving to a Variable <br>\n",
    " &nbsp;&nbsp;&nbsp;&nbsp; c) Multiple Inputs <br>\n",
    " &nbsp;&nbsp;&nbsp;&nbsp; d) Passing a Lambda into a Function <br>\n",
    " &nbsp;&nbsp;&nbsp;&nbsp; e) Returning a Lambda from a Function <br>\n",
    " &nbsp;&nbsp;&nbsp;&nbsp; f) In-Class Exercise #1 <br>\n",
    "2) <b>Map</b> <br>\n",
    " &nbsp;&nbsp;&nbsp;&nbsp; a) Syntax <br>\n",
    " &nbsp;&nbsp;&nbsp;&nbsp; b) Using Lambda's with Map <br>\n",
    " &nbsp;&nbsp;&nbsp;&nbsp; c) In-Class Exercise #2 <br>\n",
    "3) <b>Filter</b> <br>\n",
    " &nbsp;&nbsp;&nbsp;&nbsp; a) Syntax <br>\n",
    " &nbsp;&nbsp;&nbsp;&nbsp; b) Using Lambda's with Filter <br>\n",
    " &nbsp;&nbsp;&nbsp;&nbsp; c) In-Class Exercise #3 <br>\n",
    "4) <b>Reduce</b> <br>\n",
    " &nbsp;&nbsp;&nbsp;&nbsp; a) Syntax <br>\n",
    " &nbsp;&nbsp;&nbsp;&nbsp; b) Using Lambda's with Reduce <br>\n",
    " &nbsp;&nbsp;&nbsp;&nbsp; c) In-Class Exercise #4 <br>\n",
    "5) <b>Recursion</b> <br>\n",
    " &nbsp;&nbsp;&nbsp;&nbsp; a) Implementing a Base <br>\n",
    " &nbsp;&nbsp;&nbsp;&nbsp; b) Writing a Factorial Function <br>\n",
    " &nbsp;&nbsp;&nbsp;&nbsp; c) In-Class Exercise #5 <br>\n",
    "6) <b>Generators & Iterators</b> <br>\n",
    " &nbsp;&nbsp;&nbsp;&nbsp; a) Yield Keyword <br>\n",
    " &nbsp;&nbsp;&nbsp;&nbsp; b) Inifinite Generator <br>\n",
    " &nbsp;&nbsp;&nbsp;&nbsp; c) In-Class Exercise #6 <br>\n",
    "7) <b>Exercises</b> <br>\n",
    " &nbsp;&nbsp;&nbsp;&nbsp; a) Exercise #1 - Filtering Empty Strings <br>\n",
    " &nbsp;&nbsp;&nbsp;&nbsp; b) Exercise #2 - Sorting with Last Name <br>\n",
    " &nbsp;&nbsp;&nbsp;&nbsp; c) Exercise #3 - Conversion to Farhenheit <br>\n",
    " &nbsp;&nbsp;&nbsp;&nbsp; d) Exercise #4 - Fibonacci Sequence <br>"
   ]
  },
  {
   "cell_type": "markdown",
   "metadata": {},
   "source": [
    "## Lambda Functions <br>\n",
    "<p>Lambda functions... or \"Anonymous Functions\" are referring to inline functions with no name. The keyword lambda denotes the no name function, and executes within a single line. Without saving it to a variable; however, it is not able to be used, unless passed in either as a paramater or within list comprehension.<br>Written as \"(keyword lambda) (one or more inputs) (colon) (function to be executed)\"</p>"
   ]
  },
  {
   "cell_type": "code",
   "execution_count": null,
   "metadata": {},
   "outputs": [],
   "source": [
    "# Lambda functions allow us to use functions without saving them to our server\n",
    "# Used in case we want to just use a function quickly\n",
    "# Sort of like \"list comprehension of functions\" because it can be done in one line"
   ]
  },
  {
   "cell_type": "markdown",
   "metadata": {},
   "source": [
    "#### Syntax"
   ]
  },
  {
   "cell_type": "code",
   "execution_count": 4,
   "metadata": {},
   "outputs": [
    {
     "name": "stdout",
     "output_type": "stream",
     "text": [
      "6\n",
      "6\n"
     ]
    }
   ],
   "source": [
    "# This is a regular function\n",
    "def addTwo(num):\n",
    "    return num + 2\n",
    "print(addTwo(4))\n",
    "\n",
    "#Lambda syntax for defining a function without saving it to a variable\n",
    "# Always starts with lambda keyword and returns what we want, then put our argument after it in ()\n",
    "print((lambda num: num + 2)(4))\n"
   ]
  },
  {
   "cell_type": "markdown",
   "metadata": {},
   "source": [
    "#### Saving to a Variable"
   ]
  },
  {
   "cell_type": "code",
   "execution_count": 6,
   "metadata": {},
   "outputs": [
    {
     "name": "stdout",
     "output_type": "stream",
     "text": [
      "6\n"
     ]
    }
   ],
   "source": [
    "# We can save lambdas as variables\n",
    "# If we save lambdas as a variable, we can call it like a function\n",
    "# It returns the result (very similar to a function) unless you print it\n",
    "\n",
    "f_test = lambda num: num + 2\n",
    "f_test(4)\n",
    "print(f_test(4))"
   ]
  },
  {
   "cell_type": "markdown",
   "metadata": {},
   "source": [
    "#### Multiple Inputs"
   ]
  },
  {
   "cell_type": "code",
   "execution_count": 8,
   "metadata": {},
   "outputs": [
    {
     "name": "stdout",
     "output_type": "stream",
     "text": [
      "120\n",
      "120\n"
     ]
    }
   ],
   "source": [
    "# Multiple inputs with no variable\n",
    "print((lambda x, y, z: x * y * z)(3, 5, 8))\n",
    "\n",
    "# Multiple inputs saved to a variable\n",
    "num_test = lambda x, y, z: x * y * z\n",
    "print(num_test(3,5,8))"
   ]
  },
  {
   "cell_type": "markdown",
   "metadata": {},
   "source": [
    "#### Passing a Lambda into a Function"
   ]
  },
  {
   "cell_type": "code",
   "execution_count": 9,
   "metadata": {},
   "outputs": [
    {
     "name": "stdout",
     "output_type": "stream",
     "text": [
      "16\n"
     ]
    }
   ],
   "source": [
    "def multiple(func, num):\n",
    "    \"\"\"\n",
    "    func expects a lambda function\n",
    "    and num expects an integer\n",
    "    \"\"\"\n",
    "    return func(num)\n",
    "\n",
    "print(multiple(lambda x: x * x, 4))\n",
    "# note the syntax of it -- num is inside the parentheses because it's an argument to the multiple function"
   ]
  },
  {
   "cell_type": "markdown",
   "metadata": {},
   "source": [
    "#### Returning a Lambda from a Function"
   ]
  },
  {
   "cell_type": "code",
   "execution_count": 15,
   "metadata": {},
   "outputs": [
    {
     "name": "stdout",
     "output_type": "stream",
     "text": [
      "8\n",
      "8\n",
      "18\n"
     ]
    }
   ],
   "source": [
    "# Regular way of defining a function\n",
    "def multiply_test(num):\n",
    "    return num * 4\n",
    "print(multiply_test(2))\n",
    "\n",
    "\n",
    "# Syntax for writing functions inside functions\n",
    "def return_func():\n",
    "    test = 4\n",
    "    def multiply(num):\n",
    "        return num * 4\n",
    "    return multiply        # we need to make sure we return inside both functions otherwise code won't work\n",
    "\n",
    "f_return = return_func()\n",
    "print(f_return(2))\n",
    "\n",
    "\n",
    "# We like to use lambda functions instead of using functions within functions which can get hairy\n",
    "def return_lamb(a, b):\n",
    "    return lambda c, d: c + d + a + b\n",
    "\n",
    "r_return = return_lamb(3, 4)    # 3 & 4 are our a & b\n",
    "print(r_return(5,6))            # 5 & 6 are our c & d"
   ]
  },
  {
   "cell_type": "code",
   "execution_count": 18,
   "metadata": {},
   "outputs": [
    {
     "name": "stdout",
     "output_type": "stream",
     "text": [
      "Num 1 & Num 2 are: 1, 2\n",
      "14\n",
      "Num 1 & Num 2 are: 1, 2\n",
      "14\n"
     ]
    }
   ],
   "source": [
    "def my_func(num1, num2):\n",
    "    print(f\"Num 1 & Num 2 are: {num1}, {num2}\")\n",
    "    return lambda num3, num4: (num3 * num4) + (num1 * num2)\n",
    "\n",
    "\n",
    "# This uses lambdas saved to a variable\n",
    "alex_var = my_func(1, 2)    # 1 & 2 are num1 & num2 respectively\n",
    "print(alex_var(3, 4))       # 3 & 4 are num3 & num4 respectively\n",
    "\n",
    "\n",
    "# This uses lambdas without saving to a variable\n",
    "print(my_func(1,2)(3,4))"
   ]
  },
  {
   "cell_type": "markdown",
   "metadata": {},
   "source": [
    "#### If Statements within Lambdas"
   ]
  },
  {
   "cell_type": "code",
   "execution_count": 19,
   "metadata": {},
   "outputs": [
    {
     "name": "stdout",
     "output_type": "stream",
     "text": [
      "10\n",
      "12\n",
      "24\n"
     ]
    }
   ],
   "source": [
    "# Syntax for if statements in lambdas\n",
    "# Lambda x: True if (condition) else False\n",
    "\n",
    "f_conditional = lambda num: num * 2 if num > 10 else num + 2\n",
    "print(f_conditional(8))\n",
    "print(f_conditional(10))\n",
    "print(f_conditional(12))"
   ]
  },
  {
   "cell_type": "code",
   "execution_count": 24,
   "metadata": {},
   "outputs": [
    {
     "name": "stdout",
     "output_type": "stream",
     "text": [
      "3 is less than 5\n",
      "8 is greater than 5 & less than 10\n",
      "10 is greater than 10\n"
     ]
    }
   ],
   "source": [
    "# Example of if, elif, else using lambdas\n",
    "\n",
    "                                                            # below is our if statement\n",
    "alex_example = lambda num: f\"{num} is less than 5\" if num < 5 else\\\n",
    "                                                            # below is our elif statement\n",
    "(f\"{num} is greater than 5 & less than 10\" if num < 10 else\\\n",
    "                                                            # below is our else statement\n",
    "f\"{num} is greater than 10\")\n",
    "\n",
    "print(alex_example(3))\n",
    "print(alex_example(8))\n",
    "print(alex_example(10))"
   ]
  },
  {
   "cell_type": "markdown",
   "metadata": {},
   "source": [
    "#### In-Class Exercise #1 <br>\n",
    "<p>Write an anonymous function that cubes the arguments passed in and assign the anonymous function to a variable 'f'.</p>"
   ]
  },
  {
   "cell_type": "code",
   "execution_count": 25,
   "metadata": {},
   "outputs": [
    {
     "name": "stdout",
     "output_type": "stream",
     "text": [
      "8\n",
      "27\n"
     ]
    }
   ],
   "source": [
    "f = lambda num: num ** 3\n",
    "\n",
    "print(f(2))\n",
    "print(f(3))"
   ]
  },
  {
   "cell_type": "markdown",
   "metadata": {},
   "source": [
    "## Map <br>\n",
    "<p>The map function allows you to iterate over an entire list while running a function on each item of the list. This is why the map function works well with lambda's, because it simplifies things and you write less lines of code.<br>The syntax for a map function is \"map(function to be used, list to be used)\"<br>However, you must be careful, as the map function returns a map object, not a list. To turn it into a list we use the list() type conversion.</p>"
   ]
  },
  {
   "cell_type": "code",
   "execution_count": null,
   "metadata": {},
   "outputs": [],
   "source": [
    "# Map is similar to a for loop"
   ]
  },
  {
   "cell_type": "markdown",
   "metadata": {},
   "source": [
    "#### Syntax"
   ]
  },
  {
   "cell_type": "code",
   "execution_count": 27,
   "metadata": {},
   "outputs": [
    {
     "name": "stdout",
     "output_type": "stream",
     "text": [
      "[(16, 16), (11, 10), (20, 3), (9, 4), (15, 6)]\n"
     ]
    }
   ],
   "source": [
    "# Syntax for utilizing map function\n",
    "# map(function, iterable)\n",
    "# Normally the usage of map happens with pre-defined user functions, but we can use lambdas\n",
    "\n",
    "# Utitlizing a map function with a regular pre-defined user function\n",
    "def squared(num1, num2):\n",
    "    if num1 < 10 and num2 < 10:\n",
    "        return num1**2, num2**2\n",
    "    else:\n",
    "        return num1, num2\n",
    "    \n",
    "nums = [4, 11, 20, 3, 15, 20]\n",
    "more_nums = [4, 10, 3, 2, 6]\n",
    "\n",
    "squared_nums = list(map(squared, nums, more_nums))  # this is saying for each num in nums, and for each num in more_nums\n",
    "print(squared_nums)\n",
    "\n",
    "# the number 20 in list nums did not run because more_nums reached the end of the list (has one less index)"
   ]
  },
  {
   "cell_type": "markdown",
   "metadata": {},
   "source": [
    "#### Using Lambda's with Map"
   ]
  },
  {
   "cell_type": "code",
   "execution_count": 31,
   "metadata": {},
   "outputs": [
    {
     "name": "stdout",
     "output_type": "stream",
     "text": [
      "[(16, 16), (11, 10), (20, 3), (9, 4), (15, 6)]\n"
     ]
    }
   ],
   "source": [
    "# Syntax for map & lambda functions\n",
    "# list(map(lambda x: (transformation on x), iterable))\n",
    "# This usually happens in one line so it's cleaner code\n",
    "\n",
    "squared_nums_again = list(map(lambda num1, num2: (num1**2, num2**2) if num1 < 10 and num2 <10\\\n",
    "                             else (num1, num2), nums, more_nums))\n",
    "print(squared_nums_again)"
   ]
  },
  {
   "cell_type": "markdown",
   "metadata": {},
   "source": [
    "#### In-Class Exercise #2 <br>\n",
    "<p>Use the map function to double each number and minus it by one in the list by using a lambda function</p>"
   ]
  },
  {
   "cell_type": "code",
   "execution_count": 33,
   "metadata": {
    "scrolled": true
   },
   "outputs": [
    {
     "name": "stdout",
     "output_type": "stream",
     "text": [
      "[9, 19, 25, 41]\n"
     ]
    }
   ],
   "source": [
    "num_list = [5, 10, 13, 21]\n",
    "\n",
    "doubled_and_minus = list(map(lambda num: num*2 - 1, num_list))\n",
    "print(doubled_and_minus)"
   ]
  },
  {
   "cell_type": "markdown",
   "metadata": {},
   "source": [
    "## Filter() <br>\n",
    "<p>Filter's are similar to the map function, where you're able to pass a function argument and a list argument and filter out something from the list based on the conditions passed. Similar to the map function, it returns a filter object, so you need to type convert it to a list()</p>"
   ]
  },
  {
   "cell_type": "markdown",
   "metadata": {},
   "source": [
    "#### Syntax"
   ]
  },
  {
   "cell_type": "code",
   "execution_count": 42,
   "metadata": {},
   "outputs": [
    {
     "name": "stdout",
     "output_type": "stream",
     "text": [
      "['perry', 'kelsey']\n",
      "['chris', 'steve', 'perry', 'kelsey']\n"
     ]
    }
   ],
   "source": [
    "# Syntax for filter\n",
    "# list(filter(function, iterable))\n",
    "\n",
    "names_list = [\"chris\", \"steve\", \"perry\", \"kelsey\"]\n",
    "\n",
    "def y_names(names):\n",
    "    if names[-1].lower() == \"y\":\n",
    "        return True\n",
    "    else:\n",
    "        return False    # so if the name does not end with 'y', it will be filtered out of the list\n",
    "    \n",
    "new_names_list = list(filter(y_names, names_list))\n",
    "print(new_names_list)\n",
    "print(names_list)"
   ]
  },
  {
   "cell_type": "markdown",
   "metadata": {},
   "source": [
    "#### Using Lambda's with Filter()"
   ]
  },
  {
   "cell_type": "code",
   "execution_count": 44,
   "metadata": {},
   "outputs": [
    {
     "name": "stdout",
     "output_type": "stream",
     "text": [
      "['perry', 'kelsey']\n"
     ]
    }
   ],
   "source": [
    "new_names_lamb = list(filter(lambda name: True if name[-1] == 'y' else False, names_list))\n",
    "print(new_names_lamb)"
   ]
  },
  {
   "cell_type": "markdown",
   "metadata": {},
   "source": [
    "#### In-Class Exercise #3 <br>\n",
    "<p>Filter out all the numbers that are below the mean of the list.<br><b>Hint: Import the 'statistics' module</b></p>"
   ]
  },
  {
   "cell_type": "code",
   "execution_count": 63,
   "metadata": {},
   "outputs": [
    {
     "name": "stdout",
     "output_type": "stream",
     "text": [
      "6\n",
      "[3, 4, 5]\n"
     ]
    }
   ],
   "source": [
    "from statistics import mean\n",
    "\n",
    "num_list = [3, 4, 5, 8, 10]\n",
    "\n",
    "above_mean_list = list(filter(lambda num: True if num < mean(num_list) else False, num_list))\n",
    "print(mean(num_list))\n",
    "print(above_mean_list)"
   ]
  },
  {
   "cell_type": "markdown",
   "metadata": {},
   "source": [
    "## Reduce() <br>\n",
    "<p>Be very careful when using this function, as of Python 3 it's been moved to the 'functools' library and no longer is a built-in function.<br>The creator of Python himself, says to just use a for loop instead.</p>"
   ]
  },
  {
   "cell_type": "markdown",
   "metadata": {},
   "source": [
    "#### Syntax"
   ]
  },
  {
   "cell_type": "code",
   "execution_count": 66,
   "metadata": {},
   "outputs": [
    {
     "name": "stdout",
     "output_type": "stream",
     "text": [
      "30\n",
      "30\n"
     ]
    }
   ],
   "source": [
    "# Snytax for reduce\n",
    "# reduce(function, iterable)\n",
    "# Reduction is a mathematical technique that uses folding to reduce it to a single cumulative value\n",
    "\n",
    "from functools import reduce\n",
    "list_1 = [2, 4, 6, 8, 10]\n",
    "\n",
    "# Using a user-defined function with reduce\n",
    "def add_nums (num1, num2):\n",
    "    return num1 + num2\n",
    "\n",
    "result_add = reduce(add_nums, list_1)\n",
    "print(result_add)\n",
    "\n",
    "# Using a for loop instead\n",
    "result = 0\n",
    "for num in list_1:\n",
    "    result += num\n",
    "print(result)"
   ]
  },
  {
   "cell_type": "markdown",
   "metadata": {},
   "source": [
    "#### Using Lambda's with Reduce()"
   ]
  },
  {
   "cell_type": "code",
   "execution_count": 68,
   "metadata": {},
   "outputs": [
    {
     "name": "stdout",
     "output_type": "stream",
     "text": [
      "30\n"
     ]
    }
   ],
   "source": [
    "reduce_lamb = reduce(lambda num1, num2: num1+num2, list_1)\n",
    "print(reduce_lamb)"
   ]
  },
  {
   "cell_type": "markdown",
   "metadata": {},
   "source": [
    "#### In-Class Exercise #4 <br>\n",
    "<p>Use the reduce function to multiply the numbers in the list below together with a lambda function.</p>"
   ]
  },
  {
   "cell_type": "code",
   "execution_count": 71,
   "metadata": {},
   "outputs": [
    {
     "name": "stdout",
     "output_type": "stream",
     "text": [
      "3360\n",
      "3360\n"
     ]
    }
   ],
   "source": [
    "from functools import reduce\n",
    "num_list = [3, 7, 10, 16]\n",
    "\n",
    "result = 1\n",
    "for num in num_list:\n",
    "    result*= num\n",
    "print(result)\n",
    "\n",
    "reduced_multiples = reduce(lambda num1, num2: num1*num2, num_list)\n",
    "print(reduced_multiples)"
   ]
  },
  {
   "cell_type": "markdown",
   "metadata": {},
   "source": [
    "## Recursion <br>\n",
    "<p>Recursion means that a function is calling itself, so it constantly executes until a base case is reached. It will then push the returning values back up the chain until the function is complete. A prime example of recursion is computing factorials... such that 5! (factorial) is 5*4*3*2*1 which equals 120.</p>"
   ]
  },
  {
   "cell_type": "markdown",
   "metadata": {},
   "source": [
    "##### Implementing a Base Case"
   ]
  },
  {
   "cell_type": "code",
   "execution_count": 76,
   "metadata": {},
   "outputs": [
    {
     "name": "stdout",
     "output_type": "stream",
     "text": [
      "add_nums(5) = 5 + add_nums(4)\n",
      "add_nums(4) = 4 + add_nums(3)\n",
      "add_nums(3) = 3 + add_nums(2)\n",
      "add_nums(2) = 2 + add_nums(1)\n",
      "add_nums(1) = 1\n",
      "15\n"
     ]
    }
   ],
   "source": [
    "# Anything recursive can be done iteratively (ie without recursion)\n",
    "\n",
    "def add_nums(num):\n",
    "    # first we want to set our base case\n",
    "    if num <= 1:\n",
    "        print(\"add_nums(1) = 1\")\n",
    "        return num\n",
    "    else:\n",
    "        print(f\"add_nums({num}) = {num} + add_nums({num-1})\")\n",
    "        return num + add_nums(num-1)\n",
    "\n",
    "print(add_nums(5))"
   ]
  },
  {
   "cell_type": "markdown",
   "metadata": {},
   "source": [
    "#### Writing a Factorial Function"
   ]
  },
  {
   "cell_type": "code",
   "execution_count": 79,
   "metadata": {},
   "outputs": [
    {
     "name": "stdout",
     "output_type": "stream",
     "text": [
      "120\n",
      "120\n"
     ]
    }
   ],
   "source": [
    "# 5! = 5 * 4 * 3 * 2 * 1\n",
    "\n",
    "def factorial(num):\n",
    "    # set our base case\n",
    "    if num <=1:\n",
    "        return 1\n",
    "    else:\n",
    "        return num * factorial(num-1)\n",
    "    \n",
    "print(factorial(5))"
   ]
  },
  {
   "cell_type": "markdown",
   "metadata": {},
   "source": [
    "#### In-Class Exercise #5 <br>\n",
    "<p>Write a recursive function that subtracts all numbers to the argument given.</p>"
   ]
  },
  {
   "cell_type": "code",
   "execution_count": 12,
   "metadata": {},
   "outputs": [
    {
     "name": "stdout",
     "output_type": "stream",
     "text": [
      "sub_names(5) = 5 - sub_nums(4)\n",
      "sub_names(4) = 4 - sub_nums(3)\n",
      "sub_names(3) = 3 - sub_nums(2)\n",
      "sub_names(2) = 2 - sub_nums(1)\n",
      "sub_names(1) = 1\n",
      "3\n"
     ]
    }
   ],
   "source": [
    "# return num - sub_nums(num - 1)\n",
    "# Recursion is like a tree. You keep going down the tree until you reach the base case (roots)\n",
    "# Once you've reached the roots, you can start growing the tree\n",
    "\n",
    "def sub_nums(num):\n",
    "    if num <= 1:\n",
    "        print(\"sub_names(1) = 1\")\n",
    "        return num\n",
    "    else:\n",
    "        print(f\"sub_names({num}) = {num} - sub_nums({num-1})\")\n",
    "        return num - sub_nums(num-1)\n",
    "print(sub_nums(5))\n",
    "\n",
    "#sub_nums(1) = 1\n",
    "#sub_nums(2) = 2 - sub_nums(1) = 2 - 1 = 1\n",
    "#sub_nums(3) = 3 - sub_nums(2) = 3 - 1 = 2\n",
    "#sub_nums(4) = 4 - sub_nums(3) = 4 - 2 = 2\n",
    "#sub_nums(5) = 5 - sub_nums(4) = 5 - 2 = 3"
   ]
  },
  {
   "cell_type": "markdown",
   "metadata": {},
   "source": [
    "## Generators <br>\n",
    "<p>Generators are a type of iterable, like lists or tuples. They do not allow indexing, but they can still be iterated through with for loops. They are created using functions and the yield statement.</p>"
   ]
  },
  {
   "cell_type": "markdown",
   "metadata": {},
   "source": [
    "#### Yield Keyword <br>\n",
    "<p>The yield keyword denotes a generator, it doesn't return so it won't leave the function and reset all variables in the function scope, instead it yields the number back to the caller.</p>"
   ]
  },
  {
   "cell_type": "code",
   "execution_count": 6,
   "metadata": {},
   "outputs": [
    {
     "name": "stdout",
     "output_type": "stream",
     "text": [
      "2\n",
      "4\n",
      "6\n",
      "8\n",
      "10\n",
      "12\n",
      "14\n",
      "16\n",
      "18\n"
     ]
    }
   ],
   "source": [
    "# Generators are like functions that have 'return' values that we can iterate through by \"saving\" the return value\n",
    "# If we create a regular function, it only creates one return value\n",
    "# and once the function is done, it 'resets' it's return value so it doesn't save the last return value\n",
    "\n",
    "def my_range(stop, start, step = 2):\n",
    "    while start < stop:\n",
    "        yield start # yield keyword is what makes it a generator -- we yield values, we do not return values\n",
    "        start += step\n",
    "        \n",
    "for i in my_range(stop=20, start=2):\n",
    "    my_generator_value = i\n",
    "    print(my_generator_value)"
   ]
  },
  {
   "cell_type": "markdown",
   "metadata": {},
   "source": [
    "#### Infinite Generator"
   ]
  },
  {
   "cell_type": "code",
   "execution_count": 8,
   "metadata": {},
   "outputs": [
    {
     "name": "stdout",
     "output_type": "stream",
     "text": [
      "1\n",
      "2\n",
      "3\n",
      "4\n",
      "5\n",
      "6\n",
      "7\n",
      "8\n",
      "9\n"
     ]
    }
   ],
   "source": [
    "# bad, never create infinite loops\n",
    "def bad_range(stop, start, step=1):\n",
    "    while start < stop:\n",
    "        yield start\n",
    "        # this is why we need to increment our generators to avoid infinite while loops!\n",
    "        # start += step\n",
    "        \n",
    "for i in bad_range(10, 1):\n",
    "    print(i)\n",
    "    # if we forget to increment the generator, then it will continuously just print out i = 1"
   ]
  },
  {
   "cell_type": "markdown",
   "metadata": {},
   "source": [
    "#### In-Class Exercise #6 <br>\n",
    "<p>Create a generator that takes a number argument and yields that number squared, then prints each number squared until zero is reached.</p>"
   ]
  },
  {
   "cell_type": "code",
   "execution_count": 27,
   "metadata": {},
   "outputs": [
    {
     "name": "stdout",
     "output_type": "stream",
     "text": [
      "[100, 81, 64, 49, 36, 25, 16, 9, 4, 1, 0]\n"
     ]
    }
   ],
   "source": [
    "def squared_gen(num):\n",
    "    while num >= 0:\n",
    "        yield num ** 2\n",
    "        num -= 1\n",
    "        \n",
    "print([i for i in squared_gen(10)])\n"
   ]
  },
  {
   "cell_type": "markdown",
   "metadata": {},
   "source": [
    "# Exercises"
   ]
  },
  {
   "cell_type": "markdown",
   "metadata": {},
   "source": [
    "### Exercise #1 <br>\n",
    "<p>Filter out all of the empty strings from the list below</p>\n",
    "\n",
    "`Output: ['Argentina', 'San Diego', 'Boston', 'New York']`"
   ]
  },
  {
   "cell_type": "code",
   "execution_count": 39,
   "metadata": {},
   "outputs": [
    {
     "name": "stdout",
     "output_type": "stream",
     "text": [
      "['Argentina', 'San Diego', 'Boston', 'New York']\n"
     ]
    }
   ],
   "source": [
    "places = [\" \",\"Argentina\", \" \", \"San Diego\",\"\",\"  \",\"\",\"Boston\",\"New York\"]\n",
    "\n",
    "places_without_spaces = list(filter(lambda word: True if word.strip() != \"\" else False, places))\n",
    "print(places_without_spaces)"
   ]
  },
  {
   "cell_type": "markdown",
   "metadata": {},
   "source": [
    "### Exercise #2 <br>\n",
    "<p>Write an anonymous function that sorts this list by the last name...<br><b>Hint: Use the \".sort()\" method and access the key\"</b></p>\n",
    "\n",
    "`Output: ['Victor aNisimov', 'Gary A.J. Bernstein', 'Joel Carter', 'Andrew P. Garfield', 'David hassELHOFF']`"
   ]
  },
  {
   "cell_type": "code",
   "execution_count": 37,
   "metadata": {},
   "outputs": [
    {
     "name": "stdout",
     "output_type": "stream",
     "text": [
      "Carter\n",
      "aNisimov\n",
      "Garfield\n",
      "hassELHOFF\n",
      "Bernstein\n",
      "['Victor aNisimov', 'Gary A.J. Bernstein', 'Joel Carter', 'Andrew P. Garfield', 'David hassELHOFF']\n"
     ]
    }
   ],
   "source": [
    "author = [\"Joel Carter\", \"Victor aNisimov\", \"Andrew P. Garfield\",\"David hassELHOFF\",\"Gary A.J. Bernstein\"]\n",
    "\n",
    "\n",
    "author.sort(key = lambda full_name: full_name.lower().split()[-1])\n",
    "print(author)\n",
    "\n",
    "\n",
    "\n",
    "# the key parameter in sort() is an optional parameter that helps to specify the sorting criteria\n",
    "# .split() splits a string (at the spaces by default) and returns a list\n",
    "# remember the syntax for lambda is lambda keyword: whatever we want to return (aka our last name)\n",
    "# so basically we are using split() to split the full name into a list containing the first/middle/last name\n",
    "# to access the last name, we can just index to the last item in a list, which we know we can do by using [-1]"
   ]
  },
  {
   "cell_type": "markdown",
   "metadata": {},
   "source": [
    "### Exercise #3 <br>\n",
    "<p>Convert the list below from Celsius to Farhenheit, using the map function with a lambda...</p>\n",
    "\n",
    "`Output: [('Nashua', 89.6), ('Boston', 53.6), ('Los Angelos', 111.2), ('Miami', 84.2)]\n",
    "`"
   ]
  },
  {
   "cell_type": "code",
   "execution_count": 36,
   "metadata": {},
   "outputs": [
    {
     "name": "stdout",
     "output_type": "stream",
     "text": [
      "[('Nashua', 89.6), ('Boston', 53.6), ('Los Angelos', 111.2), ('Miami', 84.2)]\n"
     ]
    }
   ],
   "source": [
    "# F = (9/5)*C + 32\n",
    "places = [('Nashua',32),(\"Boston\",12),(\"Los Angelos\",44),(\"Miami\",29)]\n",
    "\n",
    "celsius_places = list(map(lambda city_temp_tup: (city_temp_tup[0], (city_temp_tup[1] * (9/5) + 32)), places))\n",
    "print(celsius_places)"
   ]
  },
  {
   "cell_type": "markdown",
   "metadata": {},
   "source": [
    "### Exercise #4 <br>\n",
    "<p>Write a recursion function to perform the fibonacci sequence up to the number passed in.</p>\n",
    "\n",
    "`Output for fib(5) => \n",
    "Iteration 0: 1\n",
    "Iteration 1: 1\n",
    "Iteration 2: 2\n",
    "Iteration 3: 3\n",
    "Iteration 4: 5\n",
    "Iteration 5: 8`"
   ]
  },
  {
   "cell_type": "code",
   "execution_count": 6,
   "metadata": {
    "scrolled": true
   },
   "outputs": [
    {
     "name": "stdout",
     "output_type": "stream",
     "text": [
      "fib(5) = fib(3) + fib(4)\n",
      "fib(3) = fib(1) + fib(2)\n",
      "fib(2) = fib(0) + fib(1)\n",
      "fib(4) = fib(2) + fib(3)\n",
      "fib(2) = fib(0) + fib(1)\n",
      "fib(3) = fib(1) + fib(2)\n",
      "fib(2) = fib(0) + fib(1)\n",
      "8\n"
     ]
    }
   ],
   "source": [
    "def fib(num):\n",
    "    # set our base case\n",
    "    if num <= 1:\n",
    "        return 1\n",
    "    else:\n",
    "        print(f\"fib({num}) = fib({num-2}) + fib({num-1})\")\n",
    "        return (fib(num-2) + fib(num-1))\n",
    "    \n",
    "print(fib(5))\n",
    "\n",
    "# fib(0) = 1\n",
    "# fib(1) = 1\n",
    "# fib(2) = fib(0) + fib(1) = 1 + 1 = 2\n",
    "# fib(3) = fib(1) + fib(2) = 1 + 2 = 3\n",
    "# fib(4) = fib(2) + fib(3) = 2 + 3 = 5\n",
    "# fib(5) = fib(3) + fib(4) = 3 + 5 = 8"
   ]
  }
 ],
 "metadata": {
  "kernelspec": {
   "display_name": "Python 3 (ipykernel)",
   "language": "python",
   "name": "python3"
  },
  "language_info": {
   "codemirror_mode": {
    "name": "ipython",
    "version": 3
   },
   "file_extension": ".py",
   "mimetype": "text/x-python",
   "name": "python",
   "nbconvert_exporter": "python",
   "pygments_lexer": "ipython3",
   "version": "3.9.13"
  }
 },
 "nbformat": 4,
 "nbformat_minor": 2
}
